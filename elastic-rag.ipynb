{
 "cells": [
  {
   "cell_type": "code",
   "execution_count": 1,
   "id": "fcbb4825-b50e-4d00-9684-10396c4a1306",
   "metadata": {},
   "outputs": [
    {
     "name": "stdout",
     "output_type": "stream",
     "text": [
      "hello\n"
     ]
    }
   ],
   "source": [
    "print('hello')\n",
    "      "
   ]
  },
  {
   "cell_type": "code",
   "execution_count": 12,
   "id": "fbb8fec9-bb6b-4906-8be3-eec802d17f08",
   "metadata": {},
   "outputs": [
    {
     "name": "stdout",
     "output_type": "stream",
     "text": [
      "--2024-06-15 23:22:14--  https://github.com/chrisdgenius/llm-zoomcamp-rag-workshop/blob/main/documents.json\n",
      "Resolving github.com (github.com)... 140.82.113.4\n",
      "Connecting to github.com (github.com)|140.82.113.4|:443... connected.\n",
      "HTTP request sent, awaiting response... 200 OK\n",
      "Length: unspecified [text/html]\n",
      "Saving to: ‘documents.json.1’\n",
      "\n",
      "documents.json.1        [ <=>                ]   1.27M  --.-KB/s    in 0.1s    \n",
      "\n",
      "2024-06-15 23:22:15 (10.5 MB/s) - ‘documents.json.1’ saved [1329993]\n",
      "\n"
     ]
    }
   ],
   "source": [
    "\n",
    "!wget https://github.com/chrisdgenius/llm-zoomcamp-rag-workshop/blob/main/documents.json\n"
   ]
  },
  {
   "cell_type": "code",
   "execution_count": 13,
   "id": "9cbf4973-fc1a-4d10-ba6c-e330eb79bc45",
   "metadata": {},
   "outputs": [
    {
     "name": "stdout",
     "output_type": "stream",
     "text": [
      "[\n",
      "  {\n",
      "    \"course\": \"data-engineering-zoomcamp\",\n",
      "    \"documents\": [\n",
      "      {\n",
      "        \"text\": \"The purpose of this document is to capture frequently asked technical questions\\nThe exact day and hour of the course will be 15th Jan 2024 at 17h00. The course will start with the first  \\u201cOffice Hours'' live.1\\nSubscribe to course public Google Calendar (it works from Desktop only).\\nRegister before the course starts using this link.\\nJoin the course Telegram channel with announcements.\\nDon\\u2019t forget to register in DataTalks.Club's Slack and join the channel.\",\n",
      "        \"section\": \"General course-related questions\",\n",
      "        \"question\": \"Course - When will the course start?\"\n",
      "      },\n",
      "      {\n"
     ]
    }
   ],
   "source": [
    "!head documents.json\n"
   ]
  },
  {
   "cell_type": "code",
   "execution_count": 15,
   "id": "fbe501b7-8c67-47c7-a5a9-27503cf20be2",
   "metadata": {},
   "outputs": [],
   "source": [
    "import json\n",
    "\n",
    "with open('./documents.json', 'rt') as f_in:\n",
    "    documents_file = json.load(f_in)\n",
    "\n",
    "documents = []\n",
    "\n",
    "for course in documents_file:\n",
    "    course_name = course['course']\n",
    "\n",
    "    for doc in course['documents']:\n",
    "        doc['course'] = course_name\n",
    "        documents.append(doc)"
   ]
  },
  {
   "cell_type": "code",
   "execution_count": 17,
   "id": "ec5dc68f-1dcb-4887-a6cf-7944483c1158",
   "metadata": {},
   "outputs": [
    {
     "data": {
      "text/plain": [
       "{'text': 'GitHub - DataTalksClub data-engineering-zoomcamp#prerequisites',\n",
       " 'section': 'General course-related questions',\n",
       " 'question': 'Course - What are the prerequisites for this course?',\n",
       " 'course': 'data-engineering-zoomcamp'}"
      ]
     },
     "execution_count": 17,
     "metadata": {},
     "output_type": "execute_result"
    }
   ],
   "source": [
    "documents[1]"
   ]
  },
  {
   "cell_type": "code",
   "execution_count": 14,
   "id": "1d5d7333-8c3a-4a9e-b6ab-054211ca2542",
   "metadata": {},
   "outputs": [
    {
     "ename": "NameError",
     "evalue": "name 'documents' is not defined",
     "output_type": "error",
     "traceback": [
      "\u001b[0;31m---------------------------------------------------------------------------\u001b[0m",
      "\u001b[0;31mNameError\u001b[0m                                 Traceback (most recent call last)",
      "Cell \u001b[0;32mIn[14], line 1\u001b[0m\n\u001b[0;32m----> 1\u001b[0m \u001b[38;5;28mlen\u001b[39m(\u001b[43mdocuments\u001b[49m)\n",
      "\u001b[0;31mNameError\u001b[0m: name 'documents' is not defined"
     ]
    }
   ],
   "source": [
    "len(documents)\n"
   ]
  },
  {
   "cell_type": "code",
   "execution_count": 7,
   "id": "4ff0463f-fe63-4957-94fa-3a882014b8a6",
   "metadata": {},
   "outputs": [
    {
     "data": {
      "text/plain": [
       "ObjectApiResponse({'name': '5ea8be723799', 'cluster_name': 'docker-cluster', 'cluster_uuid': 'IRPmiomORja9r_9hgWBugA', 'version': {'number': '8.4.3', 'build_flavor': 'default', 'build_type': 'docker', 'build_hash': '42f05b9372a9a4a470db3b52817899b99a76ee73', 'build_date': '2022-10-04T07:17:24.662462378Z', 'build_snapshot': False, 'lucene_version': '9.3.0', 'minimum_wire_compatibility_version': '7.17.0', 'minimum_index_compatibility_version': '7.0.0'}, 'tagline': 'You Know, for Search'})"
      ]
     },
     "execution_count": 7,
     "metadata": {},
     "output_type": "execute_result"
    }
   ],
   "source": [
    "from elasticsearch import Elasticsearch\n",
    "\n",
    "es = Elasticsearch(\"http://localhost:9200\")\n",
    "es.info()"
   ]
  },
  {
   "cell_type": "code",
   "execution_count": 12,
   "id": "f3a3648b-c9c9-4837-8b9b-dcc3ff156bad",
   "metadata": {},
   "outputs": [
    {
     "data": {
      "text/plain": [
       "ObjectApiResponse({'acknowledged': True, 'shards_acknowledged': True, 'index': 'course-questions'})"
      ]
     },
     "execution_count": 12,
     "metadata": {},
     "output_type": "execute_result"
    }
   ],
   "source": [
    "index_settings = {\n",
    "    \"settings\": {\n",
    "        \"number_of_shards\": 1,\n",
    "        \"number_of_replicas\": 0\n",
    "    },\n",
    "    \"mappings\": {\n",
    "        \"properties\": {\n",
    "            \"text\": {\"type\": \"text\"},\n",
    "            \"section\": {\"type\": \"text\"},\n",
    "            \"question\": {\"type\": \"text\"},\n",
    "            \"course\": {\"type\": \"keyword\"} \n",
    "        }\n",
    "    }\n",
    "}\n",
    "\n",
    "index_name = \"course-questions\"\n",
    "response = es.indices.create(index=index_name, body=index_settings)\n",
    "\n",
    "response"
   ]
  },
  {
   "cell_type": "code",
   "execution_count": 13,
   "id": "886a43be-2398-4f95-ad69-83ab963629b1",
   "metadata": {},
   "outputs": [
    {
     "ename": "NameError",
     "evalue": "name 'documents' is not defined",
     "output_type": "error",
     "traceback": [
      "\u001b[0;31m---------------------------------------------------------------------------\u001b[0m",
      "\u001b[0;31mNameError\u001b[0m                                 Traceback (most recent call last)",
      "Cell \u001b[0;32mIn[13], line 3\u001b[0m\n\u001b[1;32m      1\u001b[0m \u001b[38;5;28;01mfrom\u001b[39;00m \u001b[38;5;21;01mtqdm\u001b[39;00m\u001b[38;5;21;01m.\u001b[39;00m\u001b[38;5;21;01mauto\u001b[39;00m \u001b[38;5;28;01mimport\u001b[39;00m tqdm\n\u001b[0;32m----> 3\u001b[0m \u001b[38;5;28;01mfor\u001b[39;00m doc \u001b[38;5;129;01min\u001b[39;00m tqdm(\u001b[43mdocuments\u001b[49m):\n\u001b[1;32m      4\u001b[0m     es\u001b[38;5;241m.\u001b[39mindex(index\u001b[38;5;241m=\u001b[39mindex_name, document\u001b[38;5;241m=\u001b[39mdoc)\n",
      "\u001b[0;31mNameError\u001b[0m: name 'documents' is not defined"
     ]
    }
   ],
   "source": [
    "from tqdm.auto import tqdm\n",
    "\n",
    "for doc in tqdm(documents):\n",
    "    es.index(index=index_name, document=doc)"
   ]
  },
  {
   "cell_type": "markdown",
   "id": "9529bbd5-cb78-4c26-a7a9-ad627fdb1a67",
   "metadata": {},
   "source": [
    "To querry elastic search\n",
    "\n",
    "\n",
    "The given query is an Elasticsearch query designed to search a database for documents relevant to the user's question about joining a course after it has started. Let's break down each component of this query to understand its purpose and function:\n",
    "\n",
    "### Components of the Elasticsearch Query\n",
    "\n",
    "1. **Top-level Structure**\n",
    "    ```json\n",
    "    {\n",
    "        \"size\": 5,\n",
    "        \"query\": { ... }\n",
    "    }\n",
    "    ```\n",
    "    - `size: 5`: This indicates that the query should return up to 5 results.\n",
    "\n",
    "2. **Query Section**\n",
    "    ```json\n",
    "    \"query\": {\n",
    "        \"bool\": { ... }\n",
    "    }\n",
    "    ```\n",
    "    - The `bool` (Boolean) query allows combining multiple query clauses with boolean logic.\n",
    "\n",
    "3. **Must Clause**\n",
    "    ```json\n",
    "    \"must\": {\n",
    "        \"multi_match\": { ... }\n",
    "    }\n",
    "    ```\n",
    "    - The `must` clause specifies conditions that must be met for a document to be considered a match.\n",
    "\n",
    "4. **Multi-Match Query**\n",
    "    ```json\n",
    "    \"multi_match\": {\n",
    "        \"query\": user_question,\n",
    "        \"fields\": [\"question^3\", \"text\", \"section\"],\n",
    "        \"type\": \"best_fields\"\n",
    "    }\n",
    "    ```\n",
    "    - `query: user_question`: This is the user’s query, \"How do I join the course after it has started?\"\n",
    "    - `fields: [\"question^3\", \"text\", \"section\"]`: Specifies the fields to search in the documents. The `question` field is boosted by 3 (`^3`), meaning matches in this field are considered more important.\n",
    "    - `type: \"best_fields\"`: This type indicates that the query will find the single best matching field among those specified.\n",
    "\n",
    "5. **Filter Clause**\n",
    "    ```json\n",
    "    \"filter\": {\n",
    "        \"term\": {\n",
    "            \"course\": \"data-engineering-zoomcamp\"\n",
    "        }\n",
    "    }\n",
    "    ```\n",
    "    - The `filter` clause restricts the results to documents that contain the term \"data-engineering-zoomcamp\" in the `course` field. This does not affect the score of the results but ensures that only relevant documents are considered.\n",
    "\n",
    "### Overall Function\n",
    "\n",
    "The query is designed to search for up to 5 documents that:\n",
    "- Contain information relevant to the question \"How do I join the course after it has started?\"\n",
    "- Give higher importance to matches in the `question` field.\n",
    "- Only include documents related to the \"data-engineering-zoomcamp\" course.\n",
    "\n",
    "### Summary\n",
    "\n",
    "The query leverages a combination of relevance scoring (via `multi_match` on different fields) and filtering (to restrict results to a specific course) to find the most pertinent answers to the user's question about joining a course that has already started."
   ]
  },
  {
   "cell_type": "code",
   "execution_count": 10,
   "id": "03a847d7-1ecb-4c44-8cb8-0bf2d118e59c",
   "metadata": {},
   "outputs": [],
   "source": [
    "user_question = \"How do I join the course after it has started?\"\n",
    "\n",
    "search_query = {\n",
    "    \"size\": 5,\n",
    "    \"query\": {\n",
    "        \"bool\": {\n",
    "            \"must\": {\n",
    "                \"multi_match\": {\n",
    "                    \"query\": user_question,\n",
    "                    \"fields\": [\"question^3\", \"text\", \"section\"],\n",
    "                    \"type\": \"best_fields\"\n",
    "                }\n",
    "            },\n",
    "            \"filter\": {\n",
    "                \"term\": {\n",
    "                    \"course\": \"data-engineering-zoomcamp\"\n",
    "                }\n",
    "            }\n",
    "        }\n",
    "    }\n",
    "}"
   ]
  },
  {
   "cell_type": "code",
   "execution_count": 9,
   "id": "ea30d99e-7511-40e3-9df0-a673211723d6",
   "metadata": {},
   "outputs": [
    {
     "ename": "NameError",
     "evalue": "name 'index_name' is not defined",
     "output_type": "error",
     "traceback": [
      "\u001b[0;31m---------------------------------------------------------------------------\u001b[0m",
      "\u001b[0;31mNameError\u001b[0m                                 Traceback (most recent call last)",
      "Cell \u001b[0;32mIn[9], line 1\u001b[0m\n\u001b[0;32m----> 1\u001b[0m response \u001b[38;5;241m=\u001b[39m es\u001b[38;5;241m.\u001b[39msearch(index\u001b[38;5;241m=\u001b[39m\u001b[43mindex_name\u001b[49m, body\u001b[38;5;241m=\u001b[39msearch_query)\n\u001b[1;32m      3\u001b[0m \u001b[38;5;28;01mfor\u001b[39;00m hit \u001b[38;5;129;01min\u001b[39;00m response[\u001b[38;5;124m'\u001b[39m\u001b[38;5;124mhits\u001b[39m\u001b[38;5;124m'\u001b[39m][\u001b[38;5;124m'\u001b[39m\u001b[38;5;124mhits\u001b[39m\u001b[38;5;124m'\u001b[39m]:\n\u001b[1;32m      4\u001b[0m     doc \u001b[38;5;241m=\u001b[39m hit[\u001b[38;5;124m'\u001b[39m\u001b[38;5;124m_source\u001b[39m\u001b[38;5;124m'\u001b[39m]\n",
      "\u001b[0;31mNameError\u001b[0m: name 'index_name' is not defined"
     ]
    }
   ],
   "source": [
    "response = es.search(index=index_name, body=search_query)\n",
    "\n",
    "for hit in response['hits']['hits']:\n",
    "    doc = hit['_source']\n",
    "    print(f\"Section: {doc['section']}\\nQuestion: {doc['question']}\\nAnswer: {doc['text']}\\n\\n\")"
   ]
  },
  {
   "cell_type": "code",
   "execution_count": null,
   "id": "7610f264-2afc-47c4-8ffa-43f5c2aa83cb",
   "metadata": {},
   "outputs": [],
   "source": []
  }
 ],
 "metadata": {
  "kernelspec": {
   "display_name": "Python 3 (ipykernel)",
   "language": "python",
   "name": "python3"
  },
  "language_info": {
   "codemirror_mode": {
    "name": "ipython",
    "version": 3
   },
   "file_extension": ".py",
   "mimetype": "text/x-python",
   "name": "python",
   "nbconvert_exporter": "python",
   "pygments_lexer": "ipython3",
   "version": "3.10.13"
  }
 },
 "nbformat": 4,
 "nbformat_minor": 5
}
